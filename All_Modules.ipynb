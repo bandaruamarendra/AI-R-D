{
 "cells": [
  {
   "cell_type": "markdown",
   "metadata": {},
   "source": [
    "## Importing Required libraries"
   ]
  },
  {
   "cell_type": "code",
   "execution_count": 1,
   "metadata": {},
   "outputs": [],
   "source": [
    "import os #Directory operations\n",
    "from tkinter import filedialog #To Open File from local machine\n",
    "import numpy as np #n-dim array operations\n",
    "import pandas as pd #Reading data as Dataframe & Data accessing purpose\n",
    "import matplotlib.pyplot as plt #Data visualization\n",
    "import seaborn as sns #Data Visualization more effectively\n",
    "from sklearn.model_selection import KFold, cross_val_score #To implement Cross-Validation and KFold validation\n",
    "from sklearn.preprocessing import LabelEncoder\n",
    "%matplotlib inline\n",
    "sns.set() #To override the styles of matplotlib\n",
    "sns.set_style(\"darkgrid\") #Styling the grid in the plot\n",
    "sns.set_palette(\"magma\") #Setting the palette style in the plot\n",
    "\n",
    "#Remove warnings\n",
    "import warnings\n",
    "warnings.filterwarnings('ignore')"
   ]
  },
  {
   "cell_type": "markdown",
   "metadata": {},
   "source": [
    "## 1. Module that reads in data from a source "
   ]
  },
  {
   "cell_type": "code",
   "execution_count": 37,
   "metadata": {},
   "outputs": [
    {
     "name": "stdout",
     "output_type": "stream",
     "text": [
      "File read successfully!\n"
     ]
    }
   ],
   "source": [
    "def read_data(filepath):\n",
    "    if os.path.basename(filepath).endswith('.csv'):\n",
    "        print('File read successfully!')\n",
    "        return pd.read_csv(filepath, index_col=0)\n",
    "    elif os.path.basename(filepath).endswith('.xlsx'):\n",
    "        print('File read successfully!')\n",
    "        return pd.read_excel(filepath)\n",
    "    else:\n",
    "        print('Invalid file format')\n",
    "\n",
    "data = read_data(filedialog.askopenfilename(filetypes=(('Comma seperated file','.csv'),('Excel sheet','.xlsx'))))"
   ]
  },
  {
   "cell_type": "code",
   "execution_count": 38,
   "metadata": {},
   "outputs": [
    {
     "data": {
      "text/html": [
       "<div>\n",
       "<style scoped>\n",
       "    .dataframe tbody tr th:only-of-type {\n",
       "        vertical-align: middle;\n",
       "    }\n",
       "\n",
       "    .dataframe tbody tr th {\n",
       "        vertical-align: top;\n",
       "    }\n",
       "\n",
       "    .dataframe thead th {\n",
       "        text-align: right;\n",
       "    }\n",
       "</style>\n",
       "<table border=\"1\" class=\"dataframe\">\n",
       "  <thead>\n",
       "    <tr style=\"text-align: right;\">\n",
       "      <th></th>\n",
       "      <th>Category</th>\n",
       "      <th>Age</th>\n",
       "      <th>Sex</th>\n",
       "      <th>ALB</th>\n",
       "      <th>ALP</th>\n",
       "      <th>ALT</th>\n",
       "      <th>AST</th>\n",
       "      <th>BIL</th>\n",
       "      <th>CHE</th>\n",
       "      <th>CHOL</th>\n",
       "      <th>CREA</th>\n",
       "      <th>GGT</th>\n",
       "      <th>PROT</th>\n",
       "    </tr>\n",
       "  </thead>\n",
       "  <tbody>\n",
       "    <tr>\n",
       "      <th>1</th>\n",
       "      <td>0=Blood Donor</td>\n",
       "      <td>32</td>\n",
       "      <td>m</td>\n",
       "      <td>38.5</td>\n",
       "      <td>52.5</td>\n",
       "      <td>7.7</td>\n",
       "      <td>22.1</td>\n",
       "      <td>7.5</td>\n",
       "      <td>6.93</td>\n",
       "      <td>3.23</td>\n",
       "      <td>106.0</td>\n",
       "      <td>12.1</td>\n",
       "      <td>69.0</td>\n",
       "    </tr>\n",
       "    <tr>\n",
       "      <th>2</th>\n",
       "      <td>0=Blood Donor</td>\n",
       "      <td>32</td>\n",
       "      <td>m</td>\n",
       "      <td>38.5</td>\n",
       "      <td>70.3</td>\n",
       "      <td>18.0</td>\n",
       "      <td>24.7</td>\n",
       "      <td>3.9</td>\n",
       "      <td>11.17</td>\n",
       "      <td>4.80</td>\n",
       "      <td>74.0</td>\n",
       "      <td>15.6</td>\n",
       "      <td>76.5</td>\n",
       "    </tr>\n",
       "    <tr>\n",
       "      <th>3</th>\n",
       "      <td>0=Blood Donor</td>\n",
       "      <td>32</td>\n",
       "      <td>m</td>\n",
       "      <td>46.9</td>\n",
       "      <td>74.7</td>\n",
       "      <td>36.2</td>\n",
       "      <td>52.6</td>\n",
       "      <td>6.1</td>\n",
       "      <td>8.84</td>\n",
       "      <td>5.20</td>\n",
       "      <td>86.0</td>\n",
       "      <td>33.2</td>\n",
       "      <td>79.3</td>\n",
       "    </tr>\n",
       "    <tr>\n",
       "      <th>4</th>\n",
       "      <td>0=Blood Donor</td>\n",
       "      <td>32</td>\n",
       "      <td>m</td>\n",
       "      <td>43.2</td>\n",
       "      <td>52.0</td>\n",
       "      <td>30.6</td>\n",
       "      <td>22.6</td>\n",
       "      <td>18.9</td>\n",
       "      <td>7.33</td>\n",
       "      <td>4.74</td>\n",
       "      <td>80.0</td>\n",
       "      <td>33.8</td>\n",
       "      <td>75.7</td>\n",
       "    </tr>\n",
       "    <tr>\n",
       "      <th>5</th>\n",
       "      <td>0=Blood Donor</td>\n",
       "      <td>32</td>\n",
       "      <td>m</td>\n",
       "      <td>39.2</td>\n",
       "      <td>74.1</td>\n",
       "      <td>32.6</td>\n",
       "      <td>24.8</td>\n",
       "      <td>9.6</td>\n",
       "      <td>9.15</td>\n",
       "      <td>4.32</td>\n",
       "      <td>76.0</td>\n",
       "      <td>29.9</td>\n",
       "      <td>68.7</td>\n",
       "    </tr>\n",
       "  </tbody>\n",
       "</table>\n",
       "</div>"
      ],
      "text/plain": [
       "        Category  Age Sex   ALB   ALP   ALT   AST   BIL    CHE  CHOL   CREA  \\\n",
       "1  0=Blood Donor   32   m  38.5  52.5   7.7  22.1   7.5   6.93  3.23  106.0   \n",
       "2  0=Blood Donor   32   m  38.5  70.3  18.0  24.7   3.9  11.17  4.80   74.0   \n",
       "3  0=Blood Donor   32   m  46.9  74.7  36.2  52.6   6.1   8.84  5.20   86.0   \n",
       "4  0=Blood Donor   32   m  43.2  52.0  30.6  22.6  18.9   7.33  4.74   80.0   \n",
       "5  0=Blood Donor   32   m  39.2  74.1  32.6  24.8   9.6   9.15  4.32   76.0   \n",
       "\n",
       "    GGT  PROT  \n",
       "1  12.1  69.0  \n",
       "2  15.6  76.5  \n",
       "3  33.2  79.3  \n",
       "4  33.8  75.7  \n",
       "5  29.9  68.7  "
      ]
     },
     "execution_count": 38,
     "metadata": {},
     "output_type": "execute_result"
    }
   ],
   "source": [
    "data.head()"
   ]
  },
  {
   "cell_type": "code",
   "execution_count": 39,
   "metadata": {},
   "outputs": [],
   "source": [
    "cop_data = data.copy()"
   ]
  },
  {
   "cell_type": "code",
   "execution_count": 40,
   "metadata": {},
   "outputs": [],
   "source": [
    "data = cop_data.copy()"
   ]
  },
  {
   "cell_type": "code",
   "execution_count": 41,
   "metadata": {},
   "outputs": [
    {
     "name": "stdout",
     "output_type": "stream",
     "text": [
      "Category {'0=Blood Donor': 0, '0s=suspect Blood Donor': 1, '1=Hepatitis': 2, '2=Fibrosis': 3, '3=Cirrhosis': 4}\n",
      "Sex {'f': 0, 'm': 1}\n"
     ]
    }
   ],
   "source": [
    "def convert_category(data):\n",
    "    for c in data.columns:\n",
    "        if data[c].dtypes == 'O' or data[c].dtypes == 'object':\n",
    "            if len(data[c].value_counts()) <=10:\n",
    "                lenc = LabelEncoder()\n",
    "                data[c] = lenc.fit_transform(data[c])\n",
    "                print(c , dict(zip(lenc.classes_, lenc.transform(lenc.classes_))))\n",
    "            else:\n",
    "                print('Large number of categories in %s ----- excluding converting to labels'%(c))\n",
    "    return data\n",
    "data = convert_category(data)"
   ]
  },
  {
   "cell_type": "code",
   "execution_count": 42,
   "metadata": {},
   "outputs": [
    {
     "data": {
      "text/html": [
       "<div>\n",
       "<style scoped>\n",
       "    .dataframe tbody tr th:only-of-type {\n",
       "        vertical-align: middle;\n",
       "    }\n",
       "\n",
       "    .dataframe tbody tr th {\n",
       "        vertical-align: top;\n",
       "    }\n",
       "\n",
       "    .dataframe thead th {\n",
       "        text-align: right;\n",
       "    }\n",
       "</style>\n",
       "<table border=\"1\" class=\"dataframe\">\n",
       "  <thead>\n",
       "    <tr style=\"text-align: right;\">\n",
       "      <th></th>\n",
       "      <th>Category</th>\n",
       "      <th>Age</th>\n",
       "      <th>Sex</th>\n",
       "      <th>ALB</th>\n",
       "      <th>ALP</th>\n",
       "      <th>ALT</th>\n",
       "      <th>AST</th>\n",
       "      <th>BIL</th>\n",
       "      <th>CHE</th>\n",
       "      <th>CHOL</th>\n",
       "      <th>CREA</th>\n",
       "      <th>GGT</th>\n",
       "      <th>PROT</th>\n",
       "    </tr>\n",
       "  </thead>\n",
       "  <tbody>\n",
       "    <tr>\n",
       "      <th>1</th>\n",
       "      <td>0</td>\n",
       "      <td>32</td>\n",
       "      <td>1</td>\n",
       "      <td>38.5</td>\n",
       "      <td>52.5</td>\n",
       "      <td>7.7</td>\n",
       "      <td>22.1</td>\n",
       "      <td>7.5</td>\n",
       "      <td>6.93</td>\n",
       "      <td>3.23</td>\n",
       "      <td>106.0</td>\n",
       "      <td>12.1</td>\n",
       "      <td>69.0</td>\n",
       "    </tr>\n",
       "    <tr>\n",
       "      <th>2</th>\n",
       "      <td>0</td>\n",
       "      <td>32</td>\n",
       "      <td>1</td>\n",
       "      <td>38.5</td>\n",
       "      <td>70.3</td>\n",
       "      <td>18.0</td>\n",
       "      <td>24.7</td>\n",
       "      <td>3.9</td>\n",
       "      <td>11.17</td>\n",
       "      <td>4.80</td>\n",
       "      <td>74.0</td>\n",
       "      <td>15.6</td>\n",
       "      <td>76.5</td>\n",
       "    </tr>\n",
       "    <tr>\n",
       "      <th>3</th>\n",
       "      <td>0</td>\n",
       "      <td>32</td>\n",
       "      <td>1</td>\n",
       "      <td>46.9</td>\n",
       "      <td>74.7</td>\n",
       "      <td>36.2</td>\n",
       "      <td>52.6</td>\n",
       "      <td>6.1</td>\n",
       "      <td>8.84</td>\n",
       "      <td>5.20</td>\n",
       "      <td>86.0</td>\n",
       "      <td>33.2</td>\n",
       "      <td>79.3</td>\n",
       "    </tr>\n",
       "    <tr>\n",
       "      <th>4</th>\n",
       "      <td>0</td>\n",
       "      <td>32</td>\n",
       "      <td>1</td>\n",
       "      <td>43.2</td>\n",
       "      <td>52.0</td>\n",
       "      <td>30.6</td>\n",
       "      <td>22.6</td>\n",
       "      <td>18.9</td>\n",
       "      <td>7.33</td>\n",
       "      <td>4.74</td>\n",
       "      <td>80.0</td>\n",
       "      <td>33.8</td>\n",
       "      <td>75.7</td>\n",
       "    </tr>\n",
       "    <tr>\n",
       "      <th>5</th>\n",
       "      <td>0</td>\n",
       "      <td>32</td>\n",
       "      <td>1</td>\n",
       "      <td>39.2</td>\n",
       "      <td>74.1</td>\n",
       "      <td>32.6</td>\n",
       "      <td>24.8</td>\n",
       "      <td>9.6</td>\n",
       "      <td>9.15</td>\n",
       "      <td>4.32</td>\n",
       "      <td>76.0</td>\n",
       "      <td>29.9</td>\n",
       "      <td>68.7</td>\n",
       "    </tr>\n",
       "  </tbody>\n",
       "</table>\n",
       "</div>"
      ],
      "text/plain": [
       "   Category  Age  Sex   ALB   ALP   ALT   AST   BIL    CHE  CHOL   CREA   GGT  \\\n",
       "1         0   32    1  38.5  52.5   7.7  22.1   7.5   6.93  3.23  106.0  12.1   \n",
       "2         0   32    1  38.5  70.3  18.0  24.7   3.9  11.17  4.80   74.0  15.6   \n",
       "3         0   32    1  46.9  74.7  36.2  52.6   6.1   8.84  5.20   86.0  33.2   \n",
       "4         0   32    1  43.2  52.0  30.6  22.6  18.9   7.33  4.74   80.0  33.8   \n",
       "5         0   32    1  39.2  74.1  32.6  24.8   9.6   9.15  4.32   76.0  29.9   \n",
       "\n",
       "   PROT  \n",
       "1  69.0  \n",
       "2  76.5  \n",
       "3  79.3  \n",
       "4  75.7  \n",
       "5  68.7  "
      ]
     },
     "execution_count": 42,
     "metadata": {},
     "output_type": "execute_result"
    }
   ],
   "source": [
    "data.head()"
   ]
  },
  {
   "cell_type": "markdown",
   "metadata": {},
   "source": [
    "## 2. Selecting the data"
   ]
  },
  {
   "cell_type": "code",
   "execution_count": 26,
   "metadata": {},
   "outputs": [],
   "source": [
    "def select_data(data, cols):\n",
    "    columns = cols\n",
    "    selected_data = data.loc[:, columns]\n",
    "    return selected_data\n",
    "\n",
    "selected_final_data = select_data(data, cols=['ALB'])"
   ]
  },
  {
   "cell_type": "code",
   "execution_count": 27,
   "metadata": {},
   "outputs": [
    {
     "data": {
      "text/html": [
       "<div>\n",
       "<style scoped>\n",
       "    .dataframe tbody tr th:only-of-type {\n",
       "        vertical-align: middle;\n",
       "    }\n",
       "\n",
       "    .dataframe tbody tr th {\n",
       "        vertical-align: top;\n",
       "    }\n",
       "\n",
       "    .dataframe thead th {\n",
       "        text-align: right;\n",
       "    }\n",
       "</style>\n",
       "<table border=\"1\" class=\"dataframe\">\n",
       "  <thead>\n",
       "    <tr style=\"text-align: right;\">\n",
       "      <th></th>\n",
       "      <th>ALB</th>\n",
       "    </tr>\n",
       "  </thead>\n",
       "  <tbody>\n",
       "    <tr>\n",
       "      <th>1</th>\n",
       "      <td>38.5</td>\n",
       "    </tr>\n",
       "    <tr>\n",
       "      <th>2</th>\n",
       "      <td>38.5</td>\n",
       "    </tr>\n",
       "    <tr>\n",
       "      <th>3</th>\n",
       "      <td>46.9</td>\n",
       "    </tr>\n",
       "    <tr>\n",
       "      <th>4</th>\n",
       "      <td>43.2</td>\n",
       "    </tr>\n",
       "    <tr>\n",
       "      <th>5</th>\n",
       "      <td>39.2</td>\n",
       "    </tr>\n",
       "  </tbody>\n",
       "</table>\n",
       "</div>"
      ],
      "text/plain": [
       "    ALB\n",
       "1  38.5\n",
       "2  38.5\n",
       "3  46.9\n",
       "4  43.2\n",
       "5  39.2"
      ]
     },
     "execution_count": 27,
     "metadata": {},
     "output_type": "execute_result"
    }
   ],
   "source": [
    "selected_final_data.head()"
   ]
  },
  {
   "cell_type": "markdown",
   "metadata": {},
   "source": [
    "## 3. Module that creates basic statistics"
   ]
  },
  {
   "cell_type": "code",
   "execution_count": 43,
   "metadata": {},
   "outputs": [
    {
     "data": {
      "text/html": [
       "<div>\n",
       "<style scoped>\n",
       "    .dataframe tbody tr th:only-of-type {\n",
       "        vertical-align: middle;\n",
       "    }\n",
       "\n",
       "    .dataframe tbody tr th {\n",
       "        vertical-align: top;\n",
       "    }\n",
       "\n",
       "    .dataframe thead th {\n",
       "        text-align: right;\n",
       "    }\n",
       "</style>\n",
       "<table border=\"1\" class=\"dataframe\">\n",
       "  <thead>\n",
       "    <tr style=\"text-align: right;\">\n",
       "      <th></th>\n",
       "      <th>Category</th>\n",
       "      <th>Age</th>\n",
       "      <th>Sex</th>\n",
       "      <th>ALB</th>\n",
       "      <th>ALP</th>\n",
       "      <th>ALT</th>\n",
       "      <th>AST</th>\n",
       "      <th>BIL</th>\n",
       "      <th>CHE</th>\n",
       "      <th>CHOL</th>\n",
       "      <th>CREA</th>\n",
       "      <th>GGT</th>\n",
       "      <th>PROT</th>\n",
       "    </tr>\n",
       "  </thead>\n",
       "  <tbody>\n",
       "    <tr>\n",
       "      <th>Data Type</th>\n",
       "      <td>int32</td>\n",
       "      <td>int64</td>\n",
       "      <td>int32</td>\n",
       "      <td>float64</td>\n",
       "      <td>float64</td>\n",
       "      <td>float64</td>\n",
       "      <td>float64</td>\n",
       "      <td>float64</td>\n",
       "      <td>float64</td>\n",
       "      <td>float64</td>\n",
       "      <td>float64</td>\n",
       "      <td>float64</td>\n",
       "      <td>float64</td>\n",
       "    </tr>\n",
       "    <tr>\n",
       "      <th>count</th>\n",
       "      <td>615</td>\n",
       "      <td>615</td>\n",
       "      <td>615</td>\n",
       "      <td>614</td>\n",
       "      <td>597</td>\n",
       "      <td>614</td>\n",
       "      <td>615</td>\n",
       "      <td>615</td>\n",
       "      <td>615</td>\n",
       "      <td>605</td>\n",
       "      <td>615</td>\n",
       "      <td>615</td>\n",
       "      <td>614</td>\n",
       "    </tr>\n",
       "    <tr>\n",
       "      <th>mean</th>\n",
       "      <td>0.386992</td>\n",
       "      <td>47.4081</td>\n",
       "      <td>0.613008</td>\n",
       "      <td>41.6202</td>\n",
       "      <td>68.2839</td>\n",
       "      <td>28.4508</td>\n",
       "      <td>34.7863</td>\n",
       "      <td>11.3967</td>\n",
       "      <td>8.19663</td>\n",
       "      <td>5.3681</td>\n",
       "      <td>81.2878</td>\n",
       "      <td>39.5332</td>\n",
       "      <td>72.0441</td>\n",
       "    </tr>\n",
       "    <tr>\n",
       "      <th>std</th>\n",
       "      <td>1.05229</td>\n",
       "      <td>10.0551</td>\n",
       "      <td>0.487458</td>\n",
       "      <td>5.78063</td>\n",
       "      <td>26.0283</td>\n",
       "      <td>25.4697</td>\n",
       "      <td>33.0907</td>\n",
       "      <td>19.6731</td>\n",
       "      <td>2.20566</td>\n",
       "      <td>1.13273</td>\n",
       "      <td>49.7562</td>\n",
       "      <td>54.6611</td>\n",
       "      <td>5.40264</td>\n",
       "    </tr>\n",
       "    <tr>\n",
       "      <th>min</th>\n",
       "      <td>0</td>\n",
       "      <td>19</td>\n",
       "      <td>0</td>\n",
       "      <td>14.9</td>\n",
       "      <td>11.3</td>\n",
       "      <td>0.9</td>\n",
       "      <td>10.6</td>\n",
       "      <td>0.8</td>\n",
       "      <td>1.42</td>\n",
       "      <td>1.43</td>\n",
       "      <td>8</td>\n",
       "      <td>4.5</td>\n",
       "      <td>44.8</td>\n",
       "    </tr>\n",
       "    <tr>\n",
       "      <th>25%</th>\n",
       "      <td>0</td>\n",
       "      <td>39</td>\n",
       "      <td>0</td>\n",
       "      <td>38.8</td>\n",
       "      <td>52.5</td>\n",
       "      <td>16.4</td>\n",
       "      <td>21.6</td>\n",
       "      <td>5.3</td>\n",
       "      <td>6.935</td>\n",
       "      <td>4.61</td>\n",
       "      <td>67</td>\n",
       "      <td>15.7</td>\n",
       "      <td>69.3</td>\n",
       "    </tr>\n",
       "    <tr>\n",
       "      <th>50%</th>\n",
       "      <td>0</td>\n",
       "      <td>47</td>\n",
       "      <td>1</td>\n",
       "      <td>41.95</td>\n",
       "      <td>66.2</td>\n",
       "      <td>23</td>\n",
       "      <td>25.9</td>\n",
       "      <td>7.3</td>\n",
       "      <td>8.26</td>\n",
       "      <td>5.3</td>\n",
       "      <td>77</td>\n",
       "      <td>23.3</td>\n",
       "      <td>72.2</td>\n",
       "    </tr>\n",
       "    <tr>\n",
       "      <th>75%</th>\n",
       "      <td>0</td>\n",
       "      <td>54</td>\n",
       "      <td>1</td>\n",
       "      <td>45.2</td>\n",
       "      <td>80.1</td>\n",
       "      <td>33.075</td>\n",
       "      <td>32.9</td>\n",
       "      <td>11.2</td>\n",
       "      <td>9.59</td>\n",
       "      <td>6.06</td>\n",
       "      <td>88</td>\n",
       "      <td>40.2</td>\n",
       "      <td>75.4</td>\n",
       "    </tr>\n",
       "    <tr>\n",
       "      <th>max</th>\n",
       "      <td>4</td>\n",
       "      <td>77</td>\n",
       "      <td>1</td>\n",
       "      <td>82.2</td>\n",
       "      <td>416.6</td>\n",
       "      <td>325.3</td>\n",
       "      <td>324</td>\n",
       "      <td>254</td>\n",
       "      <td>16.41</td>\n",
       "      <td>9.67</td>\n",
       "      <td>1079.1</td>\n",
       "      <td>650.9</td>\n",
       "      <td>90</td>\n",
       "    </tr>\n",
       "  </tbody>\n",
       "</table>\n",
       "</div>"
      ],
      "text/plain": [
       "           Category      Age       Sex      ALB      ALP      ALT      AST  \\\n",
       "Data Type     int32    int64     int32  float64  float64  float64  float64   \n",
       "count           615      615       615      614      597      614      615   \n",
       "mean       0.386992  47.4081  0.613008  41.6202  68.2839  28.4508  34.7863   \n",
       "std         1.05229  10.0551  0.487458  5.78063  26.0283  25.4697  33.0907   \n",
       "min               0       19         0     14.9     11.3      0.9     10.6   \n",
       "25%               0       39         0     38.8     52.5     16.4     21.6   \n",
       "50%               0       47         1    41.95     66.2       23     25.9   \n",
       "75%               0       54         1     45.2     80.1   33.075     32.9   \n",
       "max               4       77         1     82.2    416.6    325.3      324   \n",
       "\n",
       "               BIL      CHE     CHOL     CREA      GGT     PROT  \n",
       "Data Type  float64  float64  float64  float64  float64  float64  \n",
       "count          615      615      605      615      615      614  \n",
       "mean       11.3967  8.19663   5.3681  81.2878  39.5332  72.0441  \n",
       "std        19.6731  2.20566  1.13273  49.7562  54.6611  5.40264  \n",
       "min            0.8     1.42     1.43        8      4.5     44.8  \n",
       "25%            5.3    6.935     4.61       67     15.7     69.3  \n",
       "50%            7.3     8.26      5.3       77     23.3     72.2  \n",
       "75%           11.2     9.59     6.06       88     40.2     75.4  \n",
       "max            254    16.41     9.67   1079.1    650.9       90  "
      ]
     },
     "execution_count": 43,
     "metadata": {},
     "output_type": "execute_result"
    }
   ],
   "source": [
    "def basic_stats(data):\n",
    "    return pd.concat([pd.DataFrame(data.dtypes, columns=['Data Type']).T,data.describe(exclude=['O'])],axis=0)\n",
    "basic_stats(data)"
   ]
  },
  {
   "cell_type": "markdown",
   "metadata": {},
   "source": [
    "## 4. Histogram on the selected data"
   ]
  },
  {
   "cell_type": "code",
   "execution_count": 28,
   "metadata": {},
   "outputs": [
    {
     "data": {
      "text/plain": [
       "<matplotlib.axes._subplots.AxesSubplot at 0x21ec8ea63a0>"
      ]
     },
     "execution_count": 28,
     "metadata": {},
     "output_type": "execute_result"
    },
    {
     "data": {
      "image/png": "[encoded data removed]",
      "text/plain": [
       "<Figure size 432x288 with 1 Axes>"
      ]
     },
     "metadata": {},
     "output_type": "display_data"
    }
   ],
   "source": [
    "def plot_hist_on_selected_data(data, cols):\n",
    "    columns = cols\n",
    "    return sns.distplot(data[columns], bins=50, hist=True, kde=False)\n",
    "#     data[columns].hist()\n",
    "\n",
    "plot_hist_on_selected_data(selected_final_data, cols=selected_final_data.columns)"
   ]
  },
  {
   "cell_type": "markdown",
   "metadata": {},
   "source": [
    "## 5. Return a Random Forest model"
   ]
  },
  {
   "cell_type": "markdown",
   "metadata": {},
   "source": [
    "## Analysis"
   ]
  },
  {
   "cell_type": "code",
   "execution_count": 49,
   "metadata": {},
   "outputs": [
    {
     "name": "stdout",
     "output_type": "stream",
     "text": [
      "Train data shape (417, 6)\n",
      "Test data shape (179, 6)\n",
      "Training Class distribution\n",
      " 0    368\n",
      "4     20\n",
      "2     13\n",
      "3     10\n",
      "1      6\n",
      "Name: Category, dtype: int64 \n",
      "Testing Class distribution\n",
      " 0    165\n",
      "2      7\n",
      "4      4\n",
      "3      2\n",
      "1      1\n",
      "Name: Category, dtype: int64\n",
      "Confusion Matrix \n",
      " [[162   1   3   1   0]\n",
      " [  0   0   0   0   0]\n",
      " [  1   0   3   1   1]\n",
      " [  2   0   0   0   0]\n",
      " [  0   0   1   0   3]]\n",
      "Classifcation report written to Classification_report.csv in the working directory\n",
      "Feature Importance:\n",
      " ['Age', 'ALB', 'ALP', 'ALT', 'AST', 'BIL']\n",
      " [0.05375612 0.14432123 0.28787684 0.22884819 0.13219462 0.15300299]\n"
     ]
    }
   ],
   "source": [
    "from sklearn.ensemble import RandomForestClassifier\n",
    "from sklearn.metrics import confusion_matrix, classification_report\n",
    "from sklearn.model_selection import train_test_split\n",
    "\n",
    "\n",
    "rfc = RandomForestClassifier(n_estimators=10,criterion='gini',max_depth=5,min_samples_split=2,min_samples_leaf=1,\n",
    "    min_weight_fraction_leaf=0.0,max_features='auto',max_leaf_nodes=None,min_impurity_decrease=0.0,min_impurity_split=None,\n",
    "    bootstrap=True,oob_score=False,n_jobs=None,random_state=21,verbose=0,warm_start=False,class_weight='balanced_subsample',\n",
    "    ccp_alpha=0.0,    max_samples=None)\n",
    "\n",
    "data.dropna(subset=['Age', 'ALB', 'ALP', 'ALT', 'AST', 'BIL'], inplace=True)\n",
    "\n",
    "X_train, X_test, y_train, y_test = train_test_split(data[['Age', 'ALB', 'ALP', 'ALT', 'AST', 'BIL']],data[['Category']], test_size=0.3, random_state=21 )\n",
    "\n",
    "print('Train data shape',X_train.shape)\n",
    "print('Test data shape',X_test.shape)\n",
    "\n",
    "print('Training Class distribution\\n', y_train.Category.value_counts(), '\\nTesting Class distribution\\n', y_test.Category.value_counts())\n",
    "rfc.fit(X_train,y_train)\n",
    "predicted = rfc.predict(X_test)\n",
    "print('Confusion Matrix \\n', confusion_matrix(predicted,y_test))\n",
    "\n",
    "pd.DataFrame(classification_report(predicted,y_test, output_dict=True)).to_csv('Classification_report.csv')\n",
    "print('Classifcation report written to Classification_report.csv in the working directory')\n",
    "print('Feature Importance:\\n', \"['Age', 'ALB', 'ALP', 'ALT', 'AST', 'BIL']\\n\", rfc.feature_importances_)"
   ]
  },
  {
   "cell_type": "code",
   "execution_count": 46,
   "metadata": {},
   "outputs": [
    {
     "name": "stdout",
     "output_type": "stream",
     "text": [
      "Train data shape (417, 6)\n",
      "Test data shape (179, 6)\n",
      "Training Class distribution\n",
      " 0    368\n",
      "4     20\n",
      "2     13\n",
      "3     10\n",
      "1      6\n",
      "Name: Category, dtype: int64 \n",
      "Testing Class distribution\n",
      " 0    165\n",
      "2      7\n",
      "4      4\n",
      "3      2\n",
      "1      1\n",
      "Name: Category, dtype: int64\n",
      "Confusion Matrix \n",
      " [[160   0   2   0   0]\n",
      " [  0   1   0   0   0]\n",
      " [  4   0   3   2   0]\n",
      " [  1   0   1   0   1]\n",
      " [  0   0   1   0   3]]\n",
      "Classifcation report written to Classification_report.csv in the working directory\n",
      "Feature Importance:\n",
      " ['Age', 'ALB', 'ALP', 'ALT', 'AST', 'BIL']\n",
      " [0.07368256 0.16106951 0.290245   0.14450872 0.13131475 0.19917946]\n"
     ]
    }
   ],
   "source": [
    "from sklearn.ensemble import RandomForestClassifier\n",
    "from sklearn.metrics import accuracy_score,classification_report\n",
    "from sklearn.model_selection import train_test_split\n",
    "\n",
    "\n",
    "rfc = RandomForestClassifier(n_estimators=10,criterion='entropy',max_depth=4,min_samples_split=2,min_samples_leaf=1,\n",
    "    min_weight_fraction_leaf=0.0,max_features='auto',max_leaf_nodes=None,min_impurity_decrease=0.0,min_impurity_split=None,\n",
    "    bootstrap=True,oob_score=False,n_jobs=None,random_state=21,verbose=0,warm_start=False,class_weight='balanced_subsample',\n",
    "    ccp_alpha=0.0,    max_samples=None)\n",
    "\n",
    "data.dropna(subset=['Age', 'ALB', 'ALP', 'ALT', 'AST', 'BIL'], inplace=True)\n",
    "\n",
    "\n",
    "X_train, X_test, y_train, y_test = train_test_split(data[['Age', 'ALB', 'ALP', 'ALT', 'AST', 'BIL']],data[['Category']], test_size=0.3, random_state=21 )\n",
    "\n",
    "print('Train data shape',X_train.shape)\n",
    "print('Test data shape',X_test.shape)\n",
    "\n",
    "print('Training Class distribution\\n', y_train.Category.value_counts(), '\\nTesting Class distribution\\n', y_test.Category.value_counts())\n",
    "rfc.fit(X_train,y_train)\n",
    "predicted = rfc.predict(X_test)\n",
    "print('Confusion Matrix \\n', confusion_matrix(predicted,y_test))\n",
    "\n",
    "pd.DataFrame(classification_report(predicted,y_test, output_dict=True)).to_csv('Classification_report.csv')\n",
    "print('Classifcation report written to Classification_report.csv in the working directory')\n",
    "print('Feature Importance:\\n', \"['Age', 'ALB', 'ALP', 'ALT', 'AST', 'BIL']\\n\", rfc.feature_importances_)"
   ]
  },
  {
   "cell_type": "markdown",
   "metadata": {},
   "source": [
    "## 6. 10-way Cross Validation"
   ]
  },
  {
   "cell_type": "code",
   "execution_count": 50,
   "metadata": {},
   "outputs": [
    {
     "name": "stdout",
     "output_type": "stream",
     "text": [
      "10-way cross Validation Score =  [0.52471483 0.48669202 0.42356598 0.98314607 0.81460674 0.76404494\n",
      " 0.93429844 0.08017817 0.60579065 0.60579065]\n",
      "Mean 10-way cross Validation Score =  0.6222828482464389\n"
     ]
    }
   ],
   "source": [
    "#Gini\n",
    "def cross_validate(model, predictors, target, scoring, cv = 10):\n",
    "    cv_score = cross_val_score(estimator=model, X = predictors, y = target, cv=cv, scoring=scoring)\n",
    "    return cv_score #Returning 10-Fold  score\n",
    "\n",
    "cross_validation_score = cross_validate(rfc, predictors=data[['Age', 'ALB', 'ALP', 'ALT', 'AST', 'BIL']], target=data[['Category']], scoring='r2')\n",
    "print('10-way cross Validation Score = ',cross_validation_score)\n",
    "print('Mean 10-way cross Validation Score = ',np.mean(cross_validation_score))"
   ]
  },
  {
   "cell_type": "code",
   "execution_count": 47,
   "metadata": {},
   "outputs": [
    {
     "name": "stdout",
     "output_type": "stream",
     "text": [
      "10-way cross Validation Score =  [0.61977186 0.94296578 0.50833569 0.91573034 0.79775281 0.8988764\n",
      " 0.47438753 0.51818857 0.58389013 0.95619896]\n",
      "Mean 10-way cross Validation Score =  0.721609806308049\n"
     ]
    }
   ],
   "source": [
    "#Entropy\n",
    "def cross_validate(model, predictors, target, scoring, cv = 10):\n",
    "    cv_score = cross_val_score(estimator=model, X = predictors, y = target, cv=cv, scoring=scoring)\n",
    "    return cv_score #Returning 10-Fold  score\n",
    "\n",
    "cross_validation_score = cross_validate(rfc, predictors=data[['Age', 'ALB', 'ALP', 'ALT', 'AST', 'BIL']], target=data[['Category']], scoring='r2')\n",
    "print('10-way cross Validation Score = ',cross_validation_score)\n",
    "print('Mean 10-way cross Validation Score = ',np.mean(cross_validation_score))"
   ]
  },
  {
   "cell_type": "markdown",
   "metadata": {},
   "source": [
    "## 7.\tModel that fits selected data to a line and prints out ax+b"
   ]
  },
  {
   "cell_type": "code",
   "execution_count": 33,
   "metadata": {},
   "outputs": [
    {
     "data": {
      "image/png": "[encoded data removed]",
      "text/plain": [
       "<Figure size 432x288 with 1 Axes>"
      ]
     },
     "metadata": {},
     "output_type": "display_data"
    },
    {
     "data": {
      "text/plain": [
       "array([ 0.05559445, 17.17625375])"
      ]
     },
     "execution_count": 33,
     "metadata": {},
     "output_type": "execute_result"
    }
   ],
   "source": [
    "def line(Y,x_label,y_label): #Y is for Y axis values\n",
    "    X = np.arange(0,len(Y),1)\n",
    "    var2 = np.polyfit(X,Y,1)\n",
    "    plt.plot(X,Y)\n",
    "    plt.plot(X,var2[1]+ var2[0]*X, color='r')\n",
    "    plt.xlabel(x_label)\n",
    "    plt.ylabel(y_label)\n",
    "    plt.show()\n",
    "    return var2\n",
    "\n",
    "line(Y = data['AST'].dropna(), x_label='---> Z', y_label='AST')"
   ]
  },
  {
   "cell_type": "markdown",
   "metadata": {},
   "source": [
    "## 8. Histogram"
   ]
  },
  {
   "cell_type": "code",
   "execution_count": 34,
   "metadata": {},
   "outputs": [
    {
     "data": {
      "text/plain": [
       "<matplotlib.axes._subplots.AxesSubplot at 0x21ec992e1c0>"
      ]
     },
     "execution_count": 34,
     "metadata": {},
     "output_type": "execute_result"
    },
    {
     "data": {
      "image/png": "[encoded data removed]",
      "text/plain": [
       "<Figure size 432x288 with 1 Axes>"
      ]
     },
     "metadata": {},
     "output_type": "display_data"
    }
   ],
   "source": [
    "def display_histogram(data, cols):\n",
    "    columns = cols\n",
    "    return sns.distplot(data[columns], bins=50, hist=True, kde=False) #data[columns].hist(stacked=True)\n",
    "display_histogram(data, cols=['Category', 'ALB'])"
   ]
  },
  {
   "cell_type": "markdown",
   "metadata": {},
   "source": [
    "## 9.\tModule that displays scatter plot"
   ]
  },
  {
   "cell_type": "code",
   "execution_count": 35,
   "metadata": {},
   "outputs": [
    {
     "data": {
      "image/png": "[encoded data removed]",
      "text/plain": [
       "<Figure size 432x288 with 1 Axes>"
      ]
     },
     "metadata": {},
     "output_type": "display_data"
    }
   ],
   "source": [
    "def scatter_plot_display(X,Y,x_label,y_label): # X is for X axis and Y is for Y axis values\n",
    "    plt.scatter(X,Y)\n",
    "    plt.xlabel(x_label)\n",
    "    plt.ylabel(y_label)\n",
    "    plt.show()\n",
    "    \n",
    "scatter_plot_display(X = data['ALB'], Y = data['Category'], x_label='ALB', y_label='Category')"
   ]
  },
  {
   "cell_type": "markdown",
   "metadata": {},
   "source": [
    "## 10. Heatmap"
   ]
  },
  {
   "cell_type": "code",
   "execution_count": 36,
   "metadata": {},
   "outputs": [
    {
     "data": {
      "text/plain": [
       "<matplotlib.axes._subplots.AxesSubplot at 0x21ec9abab80>"
      ]
     },
     "execution_count": 36,
     "metadata": {},
     "output_type": "execute_result"
    },
    {
     "data": {
      "image/png": "[encoded data removed]",
      "text/plain": [
       "<Figure size 432x288 with 2 Axes>"
      ]
     },
     "metadata": {},
     "output_type": "display_data"
    }
   ],
   "source": [
    "def display_heatmap(data):\n",
    "#     return data[columns].hist()\n",
    "    return sns.heatmap(data, annot=True, cmap='viridis')\n",
    "\n",
    "display_heatmap(data[['Age', 'ALB', 'ALP', 'ALT', 'AST', 'BIL']].corr())"
   ]
  },
  {
   "cell_type": "markdown",
   "metadata": {},
   "source": [
    "## Findings"
   ]
  },
  {
   "cell_type": "code",
   "execution_count": null,
   "metadata": {},
   "outputs": [],
   "source": [
    "Data:\n",
    "    Imbalanced\n",
    "Model:\n",
    "    Random Forest Classifier\n",
    "    Pre processing / Creating Latent Variables: Standard/No\n",
    "    Variations:\n",
    "        Criterion: Gini\n",
    "            \n",
    "        Criterion: Entropy\n",
    "            \n",
    "    Feature importance:\n",
    "        \n",
    "    "
   ]
  }
 ],
 "metadata": {
  "kernelspec": {
   "display_name": "Python 3",
   "language": "python",
   "name": "python3"
  },
  "language_info": {
   "codemirror_mode": {
    "name": "ipython",
    "version": 3
   },
   "file_extension": ".py",
   "mimetype": "text/x-python",
   "name": "python",
   "nbconvert_exporter": "python",
   "pygments_lexer": "ipython3",
   "version": "3.8.3"
  }
 },
 "nbformat": 4,
 "nbformat_minor": 4
}
